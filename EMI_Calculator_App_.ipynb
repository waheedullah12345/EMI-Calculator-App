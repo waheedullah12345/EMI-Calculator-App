{
  "nbformat": 4,
  "nbformat_minor": 0,
  "metadata": {
    "colab": {
      "provenance": []
    },
    "kernelspec": {
      "name": "python3",
      "display_name": "Python 3"
    },
    "language_info": {
      "name": "python"
    }
  },
  "cells": [
    {
      "cell_type": "code",
      "source": [
        "def loan_emi(amount):\n",
        "  emi = amount / 12\n",
        "  print('The EMI is ${}'.format(emi))\n"
      ],
      "metadata": {
        "id": "IYGTRJxSLDfy"
      },
      "execution_count": 1,
      "outputs": []
    },
    {
      "cell_type": "code",
      "source": [
        "loan_emi(500000)"
      ],
      "metadata": {
        "colab": {
          "base_uri": "https://localhost:8080/"
        },
        "id": "aOoxwFKILFnP",
        "outputId": "7eed84f4-86d5-4e70-8072-01fd43a652d4"
      },
      "execution_count": 2,
      "outputs": [
        {
          "output_type": "stream",
          "name": "stdout",
          "text": [
            "The EMI is $41666.666666666664\n"
          ]
        }
      ]
    },
    {
      "cell_type": "code",
      "source": [
        "def loan_emi(amount, duration):\n",
        "  emi = round((amount / duration) ,2 )\n",
        "  print('The EMI is ${}'.format(emi))\n"
      ],
      "metadata": {
        "id": "WIbkPDFhLFqB"
      },
      "execution_count": 3,
      "outputs": []
    },
    {
      "cell_type": "code",
      "source": [
        "loan_emi(500000, 1*12)"
      ],
      "metadata": {
        "colab": {
          "base_uri": "https://localhost:8080/"
        },
        "id": "3eQMQJFWLDie",
        "outputId": "1a199e53-94f1-421b-a8d2-2c1ca82b2cad"
      },
      "execution_count": 4,
      "outputs": [
        {
          "output_type": "stream",
          "name": "stdout",
          "text": [
            "The EMI is $41666.67\n"
          ]
        }
      ]
    },
    {
      "cell_type": "code",
      "source": [
        "loan_emi(500000, 2*12)"
      ],
      "metadata": {
        "colab": {
          "base_uri": "https://localhost:8080/"
        },
        "id": "ysiIgohcLDlW",
        "outputId": "cb04fa37-c6b1-4da4-b21f-c91c728bc2fc"
      },
      "execution_count": 5,
      "outputs": [
        {
          "output_type": "stream",
          "name": "stdout",
          "text": [
            "The EMI is $20833.33\n"
          ]
        }
      ]
    },
    {
      "cell_type": "code",
      "source": [
        "def loan_emi(amount, duration):\n",
        "  emi = round((amount / duration) ,2 )\n",
        "  return emi\n"
      ],
      "metadata": {
        "id": "WJOFFx9HLDoV"
      },
      "execution_count": 10,
      "outputs": []
    },
    {
      "cell_type": "code",
      "source": [
        "emi1 = loan_emi(500000, 1*12)"
      ],
      "metadata": {
        "id": "Pnga6SIUNNr1"
      },
      "execution_count": 11,
      "outputs": []
    },
    {
      "cell_type": "code",
      "source": [
        "emi2 = loan_emi(1260000, 10*12)"
      ],
      "metadata": {
        "id": "JprwSH8KNNui"
      },
      "execution_count": 12,
      "outputs": []
    },
    {
      "cell_type": "code",
      "source": [
        "emi1"
      ],
      "metadata": {
        "colab": {
          "base_uri": "https://localhost:8080/"
        },
        "id": "Od28svKhNN2A",
        "outputId": "8d969068-4a61-4e35-9a22-cd96ed3b3d19"
      },
      "execution_count": 13,
      "outputs": [
        {
          "output_type": "execute_result",
          "data": {
            "text/plain": [
              "41666.67"
            ]
          },
          "metadata": {},
          "execution_count": 13
        }
      ]
    },
    {
      "cell_type": "code",
      "source": [
        "emi2"
      ],
      "metadata": {
        "colab": {
          "base_uri": "https://localhost:8080/"
        },
        "id": "JabduiIeOA-F",
        "outputId": "46712d1a-4bbf-4951-8380-33dc93d87865"
      },
      "execution_count": 14,
      "outputs": [
        {
          "output_type": "execute_result",
          "data": {
            "text/plain": [
              "10500.0"
            ]
          },
          "metadata": {},
          "execution_count": 14
        }
      ]
    },
    {
      "cell_type": "code",
      "source": [
        "def loan_emi(amount, duration, down_payment=0):\n",
        "  loan_amount = amount - down_payment\n",
        "  emi = round((loan_amount  / duration) ,2)\n",
        "  return emi"
      ],
      "metadata": {
        "id": "ROA6_Q2FOBAz"
      },
      "execution_count": 23,
      "outputs": []
    },
    {
      "cell_type": "code",
      "source": [
        "emi1 = loan_emi(500000, 1*12, 100000)\n",
        "emi1"
      ],
      "metadata": {
        "colab": {
          "base_uri": "https://localhost:8080/"
        },
        "id": "go0QuFC3OBEN",
        "outputId": "8415eaa4-bf52-4644-f923-a504e8814d6c"
      },
      "execution_count": 24,
      "outputs": [
        {
          "output_type": "execute_result",
          "data": {
            "text/plain": [
              "33333.33"
            ]
          },
          "metadata": {},
          "execution_count": 24
        }
      ]
    },
    {
      "cell_type": "code",
      "source": [
        "emi1"
      ],
      "metadata": {
        "colab": {
          "base_uri": "https://localhost:8080/"
        },
        "id": "N0vxzzuEOBHP",
        "outputId": "c820b838-9dc2-49f4-dc8a-aa629ac73cc5"
      },
      "execution_count": 25,
      "outputs": [
        {
          "output_type": "execute_result",
          "data": {
            "text/plain": [
              "33333.33"
            ]
          },
          "metadata": {},
          "execution_count": 25
        }
      ]
    },
    {
      "cell_type": "code",
      "source": [
        "emi2 = loan_emi(1260000, 10*12)"
      ],
      "metadata": {
        "id": "X52JUpmOOBKJ"
      },
      "execution_count": 26,
      "outputs": []
    },
    {
      "cell_type": "code",
      "source": [
        "emi2"
      ],
      "metadata": {
        "colab": {
          "base_uri": "https://localhost:8080/"
        },
        "id": "rmDxdzhpOBNR",
        "outputId": "44c69ce4-6847-4f77-bf41-53266786de67"
      },
      "execution_count": 27,
      "outputs": [
        {
          "output_type": "execute_result",
          "data": {
            "text/plain": [
              "10500.0"
            ]
          },
          "metadata": {},
          "execution_count": 27
        }
      ]
    },
    {
      "cell_type": "code",
      "source": [
        "def loan_emi(amount, duration, rate, down_payment=0):\n",
        "  loan_amount = amount - down_payment\n",
        "  emi = loan_amount * rate * ((1+rate)**duration) / (((1+rate)**duration)-1)\n",
        "  return emi"
      ],
      "metadata": {
        "id": "i9i4SvQ2OBQ5"
      },
      "execution_count": 41,
      "outputs": []
    },
    {
      "cell_type": "code",
      "source": [
        "loan_emi(500000, 1*12, 0.1/0.12, 0)"
      ],
      "metadata": {
        "colab": {
          "base_uri": "https://localhost:8080/"
        },
        "id": "__0Y-8wNPwmg",
        "outputId": "574ef96e-1205-4d9e-8dbc-32c5cd942cc5"
      },
      "execution_count": 42,
      "outputs": [
        {
          "output_type": "execute_result",
          "data": {
            "text/plain": [
              "416955.86305691284"
            ]
          },
          "metadata": {},
          "execution_count": 42
        }
      ]
    },
    {
      "cell_type": "code",
      "source": [
        "loan_emi(500000, 1*12, 0.1/12, 100000)"
      ],
      "metadata": {
        "colab": {
          "base_uri": "https://localhost:8080/"
        },
        "id": "eNy3Csa5Pwsb",
        "outputId": "ed880438-4792-471d-9234-d7efc87bc31e"
      },
      "execution_count": 43,
      "outputs": [
        {
          "output_type": "execute_result",
          "data": {
            "text/plain": [
              "35166.35489200396"
            ]
          },
          "metadata": {},
          "execution_count": 43
        }
      ]
    },
    {
      "cell_type": "code",
      "source": [
        "emi1 = loan_emi(\n",
        "    amount=1260000,\n",
        "    duration=8*12,\n",
        "    rate=0.1/12,\n",
        "    down_payment=3e5\n",
        ")"
      ],
      "metadata": {
        "id": "HLPpkhWbPwvo"
      },
      "execution_count": 32,
      "outputs": []
    },
    {
      "cell_type": "code",
      "source": [
        "emi1"
      ],
      "metadata": {
        "colab": {
          "base_uri": "https://localhost:8080/"
        },
        "id": "lnbDRly_PwzJ",
        "outputId": "2a120fce-0f63-4ec8-ba67-336c5bd53108"
      },
      "execution_count": 33,
      "outputs": [
        {
          "output_type": "execute_result",
          "data": {
            "text/plain": [
              "14567.19753389219"
            ]
          },
          "metadata": {},
          "execution_count": 33
        }
      ]
    },
    {
      "cell_type": "code",
      "source": [
        "emi2 = loan_emi(amount=1260000, duration=10*12, rate=0.08/12)"
      ],
      "metadata": {
        "id": "JHjv0vtWTQvh"
      },
      "execution_count": 34,
      "outputs": []
    },
    {
      "cell_type": "code",
      "source": [
        "emi2"
      ],
      "metadata": {
        "colab": {
          "base_uri": "https://localhost:8080/"
        },
        "id": "gebA0zKKTQzh",
        "outputId": "9de69653-419a-4cd3-ec88-667805a7f7ab"
      },
      "execution_count": 35,
      "outputs": [
        {
          "output_type": "execute_result",
          "data": {
            "text/plain": [
              "15287.276888775077"
            ]
          },
          "metadata": {},
          "execution_count": 35
        }
      ]
    },
    {
      "cell_type": "code",
      "source": [
        "import math"
      ],
      "metadata": {
        "id": "UGr-NTErTQ17"
      },
      "execution_count": 36,
      "outputs": []
    },
    {
      "cell_type": "code",
      "source": [
        "help(math.ceil)"
      ],
      "metadata": {
        "colab": {
          "base_uri": "https://localhost:8080/"
        },
        "id": "u_Y3Kf4lTnZG",
        "outputId": "17e4253b-79d2-42aa-c7f4-69303911d61e"
      },
      "execution_count": 37,
      "outputs": [
        {
          "output_type": "stream",
          "name": "stdout",
          "text": [
            "Help on built-in function ceil in module math:\n",
            "\n",
            "ceil(x, /)\n",
            "    Return the ceiling of x as an Integral.\n",
            "    \n",
            "    This is the smallest integer >= x.\n",
            "\n"
          ]
        }
      ]
    },
    {
      "cell_type": "code",
      "source": [
        "print(math.floor(5.1))"
      ],
      "metadata": {
        "colab": {
          "base_uri": "https://localhost:8080/"
        },
        "id": "pyADeXAoTnb6",
        "outputId": "17caf61f-faff-4774-9bb2-da4b7f18fdbb"
      },
      "execution_count": 38,
      "outputs": [
        {
          "output_type": "stream",
          "name": "stdout",
          "text": [
            "5\n"
          ]
        }
      ]
    },
    {
      "cell_type": "code",
      "source": [
        "def loan_emi(amount, duration, rate, down_payment=0):\n",
        "  loan_amount = amount - down_payment\n",
        "  emi = loan_amount * rate * ((1+rate)**duration) / (((1+rate)**duration)-1)\n",
        "  emi = math.ceil(emi)\n",
        "  return emi"
      ],
      "metadata": {
        "id": "u-Rjcng5T4i5"
      },
      "execution_count": 44,
      "outputs": []
    },
    {
      "cell_type": "code",
      "source": [
        "emi1 = loan_emi(\n",
        "    amount=500000,\n",
        "    duration=1*12,\n",
        "    rate=0.1/12,\n",
        "    down_payment=100000\n",
        ")"
      ],
      "metadata": {
        "id": "buJnWxmsT4ml"
      },
      "execution_count": 45,
      "outputs": []
    },
    {
      "cell_type": "code",
      "source": [
        "emi1"
      ],
      "metadata": {
        "colab": {
          "base_uri": "https://localhost:8080/"
        },
        "id": "v3xo57vtTQ4r",
        "outputId": "ba29efe9-d480-487e-93e7-7dd981beffd9"
      },
      "execution_count": 46,
      "outputs": [
        {
          "output_type": "execute_result",
          "data": {
            "text/plain": [
              "35167"
            ]
          },
          "metadata": {},
          "execution_count": 46
        }
      ]
    },
    {
      "cell_type": "code",
      "source": [
        "emi2 = loan_emi(amount=1260000, duration=10*12, rate=0.08/12)"
      ],
      "metadata": {
        "id": "sji1L3oNVgfG"
      },
      "execution_count": 47,
      "outputs": []
    },
    {
      "cell_type": "code",
      "source": [
        "emi2"
      ],
      "metadata": {
        "colab": {
          "base_uri": "https://localhost:8080/"
        },
        "id": "nbDkJ64TVgit",
        "outputId": "85409b5b-d55c-4ffd-9a2e-d9460c6be583"
      },
      "execution_count": 48,
      "outputs": [
        {
          "output_type": "execute_result",
          "data": {
            "text/plain": [
              "15288"
            ]
          },
          "metadata": {},
          "execution_count": 48
        }
      ]
    },
    {
      "cell_type": "code",
      "source": [
        "if emi1 < emi2:\n",
        "    print(\"Option 1 has the lower EMI: ${}\".format(emi1))\n",
        "else:\n",
        "    print(\"Option 2 has the lower EMI: ${}\".format(emi2))"
      ],
      "metadata": {
        "colab": {
          "base_uri": "https://localhost:8080/"
        },
        "id": "lTruZT_5VzmT",
        "outputId": "494aa892-7fa5-47e7-db94-ef67af098201"
      },
      "execution_count": 53,
      "outputs": [
        {
          "output_type": "stream",
          "name": "stdout",
          "text": [
            "Option 2 has the lower EMI: $15288\n"
          ]
        }
      ]
    },
    {
      "cell_type": "code",
      "source": [
        "cost_of_house = 800000\n",
        "home_loan_duration = 6*12\n",
        "home_loan_rate = 0.07/12\n",
        "home_down_payment = .25 * 800000\n",
        "\n",
        "emi_house = loan_emi(amount=cost_of_house,\n",
        "                     duration=home_loan_duration,\n",
        "                     rate=home_loan_rate,\n",
        "                     down_payment=home_down_payment)\n",
        "\n",
        "emi_house"
      ],
      "metadata": {
        "colab": {
          "base_uri": "https://localhost:8080/"
        },
        "id": "Em7YKkMkVz0u",
        "outputId": "c0b8363a-7122-49f4-a502-ecfef60b1afc"
      },
      "execution_count": 57,
      "outputs": [
        {
          "output_type": "execute_result",
          "data": {
            "text/plain": [
              "10230"
            ]
          },
          "metadata": {},
          "execution_count": 57
        }
      ]
    },
    {
      "cell_type": "code",
      "source": [
        "cost_of_car = 60000\n",
        "car_loan_duration = 1*12\n",
        "car_loan_rate = .12/12\n",
        "\n",
        "emi_car = loan_emi(amount=cost_of_car,\n",
        "                   duration=car_loan_duration,\n",
        "                   rate=car_loan_rate)\n",
        "\n",
        "emi_car"
      ],
      "metadata": {
        "colab": {
          "base_uri": "https://localhost:8080/"
        },
        "id": "H8g1OMFYVz3Y",
        "outputId": "9a1f0586-5f29-4df0-8604-ee6782c6ef9e"
      },
      "execution_count": 58,
      "outputs": [
        {
          "output_type": "execute_result",
          "data": {
            "text/plain": [
              "5331"
            ]
          },
          "metadata": {},
          "execution_count": 58
        }
      ]
    },
    {
      "cell_type": "code",
      "source": [
        "print(\"Shaun makes a total monthly payment of ${} towards loan repayment.\".format(emi_house+emi_car))"
      ],
      "metadata": {
        "colab": {
          "base_uri": "https://localhost:8080/"
        },
        "id": "QnBRrTq7TQ7d",
        "outputId": "8a046da6-23f4-41fc-aa19-771ad1e0bdec"
      },
      "execution_count": 59,
      "outputs": [
        {
          "output_type": "stream",
          "name": "stdout",
          "text": [
            "Shaun makes a total monthly payment of $15561 towards loan repayment.\n"
          ]
        }
      ]
    }
  ]
}